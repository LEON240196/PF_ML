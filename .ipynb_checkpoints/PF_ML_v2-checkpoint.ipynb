{
 "cells": [
  {
   "cell_type": "code",
   "execution_count": 1,
   "metadata": {
    "id": "Rp90ZQnvkU10"
   },
   "outputs": [],
   "source": [
    "import pandas as pd\n",
    "import numpy as np"
   ]
  },
  {
   "cell_type": "markdown",
   "metadata": {
    "id": "YAj61XcLky1z"
   },
   "source": [
    "# Leer Dataset"
   ]
  },
  {
   "cell_type": "code",
   "execution_count": 2,
   "metadata": {
    "colab": {
     "base_uri": "https://localhost:8080/",
     "height": 206
    },
    "id": "Yrej1PEhkrTZ",
    "outputId": "9fc30f8c-e724-48df-f23e-7ef5f2bd1a59"
   },
   "outputs": [
    {
     "data": {
      "text/html": [
       "<div>\n",
       "<style scoped>\n",
       "    .dataframe tbody tr th:only-of-type {\n",
       "        vertical-align: middle;\n",
       "    }\n",
       "\n",
       "    .dataframe tbody tr th {\n",
       "        vertical-align: top;\n",
       "    }\n",
       "\n",
       "    .dataframe thead th {\n",
       "        text-align: right;\n",
       "    }\n",
       "</style>\n",
       "<table border=\"1\" class=\"dataframe\">\n",
       "  <thead>\n",
       "    <tr style=\"text-align: right;\">\n",
       "      <th></th>\n",
       "      <th>HeartDisease</th>\n",
       "      <th>BMI</th>\n",
       "      <th>Smoking</th>\n",
       "      <th>AlcoholDrinking</th>\n",
       "      <th>Stroke</th>\n",
       "      <th>PhysicalHealth</th>\n",
       "      <th>MentalHealth</th>\n",
       "      <th>DiffWalking</th>\n",
       "      <th>Sex</th>\n",
       "      <th>AgeCategory</th>\n",
       "      <th>Race</th>\n",
       "      <th>Diabetic</th>\n",
       "      <th>PhysicalActivity</th>\n",
       "      <th>GenHealth</th>\n",
       "      <th>SleepTime</th>\n",
       "      <th>Asthma</th>\n",
       "      <th>KidneyDisease</th>\n",
       "      <th>SkinCancer</th>\n",
       "    </tr>\n",
       "  </thead>\n",
       "  <tbody>\n",
       "    <tr>\n",
       "      <th>0</th>\n",
       "      <td>No</td>\n",
       "      <td>16.60</td>\n",
       "      <td>Yes</td>\n",
       "      <td>No</td>\n",
       "      <td>No</td>\n",
       "      <td>3.0</td>\n",
       "      <td>30.0</td>\n",
       "      <td>No</td>\n",
       "      <td>Female</td>\n",
       "      <td>55-59</td>\n",
       "      <td>White</td>\n",
       "      <td>Yes</td>\n",
       "      <td>Yes</td>\n",
       "      <td>Very good</td>\n",
       "      <td>5.0</td>\n",
       "      <td>Yes</td>\n",
       "      <td>No</td>\n",
       "      <td>Yes</td>\n",
       "    </tr>\n",
       "    <tr>\n",
       "      <th>1</th>\n",
       "      <td>No</td>\n",
       "      <td>20.34</td>\n",
       "      <td>No</td>\n",
       "      <td>No</td>\n",
       "      <td>Yes</td>\n",
       "      <td>0.0</td>\n",
       "      <td>0.0</td>\n",
       "      <td>No</td>\n",
       "      <td>Female</td>\n",
       "      <td>80 or older</td>\n",
       "      <td>White</td>\n",
       "      <td>No</td>\n",
       "      <td>Yes</td>\n",
       "      <td>Very good</td>\n",
       "      <td>7.0</td>\n",
       "      <td>No</td>\n",
       "      <td>No</td>\n",
       "      <td>No</td>\n",
       "    </tr>\n",
       "    <tr>\n",
       "      <th>2</th>\n",
       "      <td>No</td>\n",
       "      <td>26.58</td>\n",
       "      <td>Yes</td>\n",
       "      <td>No</td>\n",
       "      <td>No</td>\n",
       "      <td>20.0</td>\n",
       "      <td>30.0</td>\n",
       "      <td>No</td>\n",
       "      <td>Male</td>\n",
       "      <td>65-69</td>\n",
       "      <td>White</td>\n",
       "      <td>Yes</td>\n",
       "      <td>Yes</td>\n",
       "      <td>Fair</td>\n",
       "      <td>8.0</td>\n",
       "      <td>Yes</td>\n",
       "      <td>No</td>\n",
       "      <td>No</td>\n",
       "    </tr>\n",
       "    <tr>\n",
       "      <th>3</th>\n",
       "      <td>No</td>\n",
       "      <td>24.21</td>\n",
       "      <td>No</td>\n",
       "      <td>No</td>\n",
       "      <td>No</td>\n",
       "      <td>0.0</td>\n",
       "      <td>0.0</td>\n",
       "      <td>No</td>\n",
       "      <td>Female</td>\n",
       "      <td>75-79</td>\n",
       "      <td>White</td>\n",
       "      <td>No</td>\n",
       "      <td>No</td>\n",
       "      <td>Good</td>\n",
       "      <td>6.0</td>\n",
       "      <td>No</td>\n",
       "      <td>No</td>\n",
       "      <td>Yes</td>\n",
       "    </tr>\n",
       "    <tr>\n",
       "      <th>4</th>\n",
       "      <td>No</td>\n",
       "      <td>23.71</td>\n",
       "      <td>No</td>\n",
       "      <td>No</td>\n",
       "      <td>No</td>\n",
       "      <td>28.0</td>\n",
       "      <td>0.0</td>\n",
       "      <td>Yes</td>\n",
       "      <td>Female</td>\n",
       "      <td>40-44</td>\n",
       "      <td>White</td>\n",
       "      <td>No</td>\n",
       "      <td>Yes</td>\n",
       "      <td>Very good</td>\n",
       "      <td>8.0</td>\n",
       "      <td>No</td>\n",
       "      <td>No</td>\n",
       "      <td>No</td>\n",
       "    </tr>\n",
       "  </tbody>\n",
       "</table>\n",
       "</div>"
      ],
      "text/plain": [
       "  HeartDisease    BMI Smoking AlcoholDrinking Stroke  PhysicalHealth  \\\n",
       "0           No  16.60     Yes              No     No             3.0   \n",
       "1           No  20.34      No              No    Yes             0.0   \n",
       "2           No  26.58     Yes              No     No            20.0   \n",
       "3           No  24.21      No              No     No             0.0   \n",
       "4           No  23.71      No              No     No            28.0   \n",
       "\n",
       "   MentalHealth DiffWalking     Sex  AgeCategory   Race Diabetic  \\\n",
       "0          30.0          No  Female        55-59  White      Yes   \n",
       "1           0.0          No  Female  80 or older  White       No   \n",
       "2          30.0          No    Male        65-69  White      Yes   \n",
       "3           0.0          No  Female        75-79  White       No   \n",
       "4           0.0         Yes  Female        40-44  White       No   \n",
       "\n",
       "  PhysicalActivity  GenHealth  SleepTime Asthma KidneyDisease SkinCancer  \n",
       "0              Yes  Very good        5.0    Yes            No        Yes  \n",
       "1              Yes  Very good        7.0     No            No         No  \n",
       "2              Yes       Fair        8.0    Yes            No         No  \n",
       "3               No       Good        6.0     No            No        Yes  \n",
       "4              Yes  Very good        8.0     No            No         No  "
      ]
     },
     "execution_count": 2,
     "metadata": {},
     "output_type": "execute_result"
    }
   ],
   "source": [
    "df = pd.read_csv('https://raw.githubusercontent.com/LEON240196/PF_ML/main/heart_2020_cleaned.csv')\n",
    "df.head()"
   ]
  },
  {
   "cell_type": "code",
   "execution_count": 3,
   "metadata": {
    "colab": {
     "base_uri": "https://localhost:8080/"
    },
    "id": "A0YsRzE2kdpu",
    "outputId": "e6713246-14bf-42e3-e9a0-008a15285a29"
   },
   "outputs": [
    {
     "data": {
      "text/plain": [
       "Index(['HeartDisease', 'BMI', 'Smoking', 'AlcoholDrinking', 'Stroke',\n",
       "       'PhysicalHealth', 'MentalHealth', 'DiffWalking', 'Sex', 'AgeCategory',\n",
       "       'Race', 'Diabetic', 'PhysicalActivity', 'GenHealth', 'SleepTime',\n",
       "       'Asthma', 'KidneyDisease', 'SkinCancer'],\n",
       "      dtype='object')"
      ]
     },
     "execution_count": 3,
     "metadata": {},
     "output_type": "execute_result"
    }
   ],
   "source": [
    "df.columns"
   ]
  },
  {
   "cell_type": "code",
   "execution_count": 4,
   "metadata": {
    "colab": {
     "base_uri": "https://localhost:8080/"
    },
    "id": "MEB1SZlXlKMS",
    "outputId": "30f0acb9-4675-40aa-90a0-d3ecdc68b13c"
   },
   "outputs": [
    {
     "data": {
      "text/plain": [
       "HeartDisease         object\n",
       "BMI                 float64\n",
       "Smoking              object\n",
       "AlcoholDrinking      object\n",
       "Stroke               object\n",
       "PhysicalHealth      float64\n",
       "MentalHealth        float64\n",
       "DiffWalking          object\n",
       "Sex                  object\n",
       "AgeCategory          object\n",
       "Race                 object\n",
       "Diabetic             object\n",
       "PhysicalActivity     object\n",
       "GenHealth            object\n",
       "SleepTime           float64\n",
       "Asthma               object\n",
       "KidneyDisease        object\n",
       "SkinCancer           object\n",
       "dtype: object"
      ]
     },
     "execution_count": 4,
     "metadata": {},
     "output_type": "execute_result"
    }
   ],
   "source": [
    "df.dtypes"
   ]
  },
  {
   "cell_type": "markdown",
   "metadata": {
    "id": "GfqZrG9FlMfv"
   },
   "source": [
    "¿Cuántas variables hay?"
   ]
  },
  {
   "cell_type": "code",
   "execution_count": 5,
   "metadata": {
    "colab": {
     "base_uri": "https://localhost:8080/"
    },
    "id": "vqtbmbiflWSQ",
    "outputId": "73d87ce9-d4a9-4c56-9997-29685f05e9fe"
   },
   "outputs": [
    {
     "name": "stdout",
     "output_type": "stream",
     "text": [
      "número de variables: 18\n",
      "número de variables categóricas: 14\n",
      "número de variables numéricas: 4\n"
     ]
    }
   ],
   "source": [
    "n = len(df.columns)\n",
    "n_cat = len(df.select_dtypes(include=\"object\").columns)\n",
    "n_num = len(df.select_dtypes(include=\"number\").columns)\n",
    "\n",
    "print(f\"número de variables: {n}\")\n",
    "print(f\"número de variables categóricas: {n_cat}\")\n",
    "print(f\"número de variables numéricas: {n_num}\")"
   ]
  },
  {
   "cell_type": "markdown",
   "metadata": {
    "id": "VElq1qZYmAqA"
   },
   "source": [
    "## Análisis Exploratorio de Datos"
   ]
  },
  {
   "cell_type": "code",
   "execution_count": 6,
   "metadata": {
    "colab": {
     "base_uri": "https://localhost:8080/",
     "height": 175
    },
    "id": "pGj9vbRplwSO",
    "outputId": "f6b7d655-5a89-4d52-b350-0fa458f6cf65"
   },
   "outputs": [
    {
     "data": {
      "text/html": [
       "<div>\n",
       "<style scoped>\n",
       "    .dataframe tbody tr th:only-of-type {\n",
       "        vertical-align: middle;\n",
       "    }\n",
       "\n",
       "    .dataframe tbody tr th {\n",
       "        vertical-align: top;\n",
       "    }\n",
       "\n",
       "    .dataframe thead th {\n",
       "        text-align: right;\n",
       "    }\n",
       "</style>\n",
       "<table border=\"1\" class=\"dataframe\">\n",
       "  <thead>\n",
       "    <tr style=\"text-align: right;\">\n",
       "      <th></th>\n",
       "      <th>count</th>\n",
       "      <th>mean</th>\n",
       "      <th>std</th>\n",
       "      <th>min</th>\n",
       "      <th>25%</th>\n",
       "      <th>50%</th>\n",
       "      <th>75%</th>\n",
       "      <th>max</th>\n",
       "    </tr>\n",
       "  </thead>\n",
       "  <tbody>\n",
       "    <tr>\n",
       "      <th>BMI</th>\n",
       "      <td>319795.0</td>\n",
       "      <td>28.325399</td>\n",
       "      <td>6.356100</td>\n",
       "      <td>12.02</td>\n",
       "      <td>24.03</td>\n",
       "      <td>27.34</td>\n",
       "      <td>31.42</td>\n",
       "      <td>94.85</td>\n",
       "    </tr>\n",
       "    <tr>\n",
       "      <th>PhysicalHealth</th>\n",
       "      <td>319795.0</td>\n",
       "      <td>3.371710</td>\n",
       "      <td>7.950850</td>\n",
       "      <td>0.00</td>\n",
       "      <td>0.00</td>\n",
       "      <td>0.00</td>\n",
       "      <td>2.00</td>\n",
       "      <td>30.00</td>\n",
       "    </tr>\n",
       "    <tr>\n",
       "      <th>MentalHealth</th>\n",
       "      <td>319795.0</td>\n",
       "      <td>3.898366</td>\n",
       "      <td>7.955235</td>\n",
       "      <td>0.00</td>\n",
       "      <td>0.00</td>\n",
       "      <td>0.00</td>\n",
       "      <td>3.00</td>\n",
       "      <td>30.00</td>\n",
       "    </tr>\n",
       "    <tr>\n",
       "      <th>SleepTime</th>\n",
       "      <td>319795.0</td>\n",
       "      <td>7.097075</td>\n",
       "      <td>1.436007</td>\n",
       "      <td>1.00</td>\n",
       "      <td>6.00</td>\n",
       "      <td>7.00</td>\n",
       "      <td>8.00</td>\n",
       "      <td>24.00</td>\n",
       "    </tr>\n",
       "  </tbody>\n",
       "</table>\n",
       "</div>"
      ],
      "text/plain": [
       "                   count       mean       std    min    25%    50%    75%  \\\n",
       "BMI             319795.0  28.325399  6.356100  12.02  24.03  27.34  31.42   \n",
       "PhysicalHealth  319795.0   3.371710  7.950850   0.00   0.00   0.00   2.00   \n",
       "MentalHealth    319795.0   3.898366  7.955235   0.00   0.00   0.00   3.00   \n",
       "SleepTime       319795.0   7.097075  1.436007   1.00   6.00   7.00   8.00   \n",
       "\n",
       "                  max  \n",
       "BMI             94.85  \n",
       "PhysicalHealth  30.00  \n",
       "MentalHealth    30.00  \n",
       "SleepTime       24.00  "
      ]
     },
     "execution_count": 6,
     "metadata": {},
     "output_type": "execute_result"
    }
   ],
   "source": [
    "df.describe().T"
   ]
  },
  {
   "cell_type": "code",
   "execution_count": 7,
   "metadata": {
    "colab": {
     "base_uri": "https://localhost:8080/"
    },
    "id": "JQOcXzQLmJdI",
    "outputId": "95672c85-aefd-4af5-8709-5636d7f98a10"
   },
   "outputs": [
    {
     "data": {
      "text/plain": [
       "319795"
      ]
     },
     "execution_count": 7,
     "metadata": {},
     "output_type": "execute_result"
    }
   ],
   "source": [
    "df.shape[0]"
   ]
  },
  {
   "cell_type": "markdown",
   "metadata": {
    "id": "xIpkgeoxmXS1"
   },
   "source": [
    "* No hay valores nulos!\n",
    "* La media de BMI parece tener al menos un orden de magnitud de diferencia respecto a las otras variables numéricas\n",
    "* Aún así, el máximo no tiene un orden de magnitud más que el resto de las variables. Probablemente esté sesgada la distribución"
   ]
  },
  {
   "cell_type": "code",
   "execution_count": 8,
   "metadata": {
    "colab": {
     "base_uri": "https://localhost:8080/",
     "height": 488
    },
    "id": "HEv9h-3mmWDp",
    "outputId": "6afc4af9-d5c9-4521-d457-9273a2e6ffb1"
   },
   "outputs": [
    {
     "data": {
      "text/html": [
       "<div>\n",
       "<style scoped>\n",
       "    .dataframe tbody tr th:only-of-type {\n",
       "        vertical-align: middle;\n",
       "    }\n",
       "\n",
       "    .dataframe tbody tr th {\n",
       "        vertical-align: top;\n",
       "    }\n",
       "\n",
       "    .dataframe thead th {\n",
       "        text-align: right;\n",
       "    }\n",
       "</style>\n",
       "<table border=\"1\" class=\"dataframe\">\n",
       "  <thead>\n",
       "    <tr style=\"text-align: right;\">\n",
       "      <th></th>\n",
       "      <th>count</th>\n",
       "      <th>unique</th>\n",
       "      <th>top</th>\n",
       "      <th>freq</th>\n",
       "    </tr>\n",
       "  </thead>\n",
       "  <tbody>\n",
       "    <tr>\n",
       "      <th>HeartDisease</th>\n",
       "      <td>319795</td>\n",
       "      <td>2</td>\n",
       "      <td>No</td>\n",
       "      <td>292422</td>\n",
       "    </tr>\n",
       "    <tr>\n",
       "      <th>Smoking</th>\n",
       "      <td>319795</td>\n",
       "      <td>2</td>\n",
       "      <td>No</td>\n",
       "      <td>187887</td>\n",
       "    </tr>\n",
       "    <tr>\n",
       "      <th>AlcoholDrinking</th>\n",
       "      <td>319795</td>\n",
       "      <td>2</td>\n",
       "      <td>No</td>\n",
       "      <td>298018</td>\n",
       "    </tr>\n",
       "    <tr>\n",
       "      <th>Stroke</th>\n",
       "      <td>319795</td>\n",
       "      <td>2</td>\n",
       "      <td>No</td>\n",
       "      <td>307726</td>\n",
       "    </tr>\n",
       "    <tr>\n",
       "      <th>DiffWalking</th>\n",
       "      <td>319795</td>\n",
       "      <td>2</td>\n",
       "      <td>No</td>\n",
       "      <td>275385</td>\n",
       "    </tr>\n",
       "    <tr>\n",
       "      <th>Sex</th>\n",
       "      <td>319795</td>\n",
       "      <td>2</td>\n",
       "      <td>Female</td>\n",
       "      <td>167805</td>\n",
       "    </tr>\n",
       "    <tr>\n",
       "      <th>AgeCategory</th>\n",
       "      <td>319795</td>\n",
       "      <td>13</td>\n",
       "      <td>65-69</td>\n",
       "      <td>34151</td>\n",
       "    </tr>\n",
       "    <tr>\n",
       "      <th>Race</th>\n",
       "      <td>319795</td>\n",
       "      <td>6</td>\n",
       "      <td>White</td>\n",
       "      <td>245212</td>\n",
       "    </tr>\n",
       "    <tr>\n",
       "      <th>Diabetic</th>\n",
       "      <td>319795</td>\n",
       "      <td>4</td>\n",
       "      <td>No</td>\n",
       "      <td>269653</td>\n",
       "    </tr>\n",
       "    <tr>\n",
       "      <th>PhysicalActivity</th>\n",
       "      <td>319795</td>\n",
       "      <td>2</td>\n",
       "      <td>Yes</td>\n",
       "      <td>247957</td>\n",
       "    </tr>\n",
       "    <tr>\n",
       "      <th>GenHealth</th>\n",
       "      <td>319795</td>\n",
       "      <td>5</td>\n",
       "      <td>Very good</td>\n",
       "      <td>113858</td>\n",
       "    </tr>\n",
       "    <tr>\n",
       "      <th>Asthma</th>\n",
       "      <td>319795</td>\n",
       "      <td>2</td>\n",
       "      <td>No</td>\n",
       "      <td>276923</td>\n",
       "    </tr>\n",
       "    <tr>\n",
       "      <th>KidneyDisease</th>\n",
       "      <td>319795</td>\n",
       "      <td>2</td>\n",
       "      <td>No</td>\n",
       "      <td>308016</td>\n",
       "    </tr>\n",
       "    <tr>\n",
       "      <th>SkinCancer</th>\n",
       "      <td>319795</td>\n",
       "      <td>2</td>\n",
       "      <td>No</td>\n",
       "      <td>289976</td>\n",
       "    </tr>\n",
       "  </tbody>\n",
       "</table>\n",
       "</div>"
      ],
      "text/plain": [
       "                   count unique        top    freq\n",
       "HeartDisease      319795      2         No  292422\n",
       "Smoking           319795      2         No  187887\n",
       "AlcoholDrinking   319795      2         No  298018\n",
       "Stroke            319795      2         No  307726\n",
       "DiffWalking       319795      2         No  275385\n",
       "Sex               319795      2     Female  167805\n",
       "AgeCategory       319795     13      65-69   34151\n",
       "Race              319795      6      White  245212\n",
       "Diabetic          319795      4         No  269653\n",
       "PhysicalActivity  319795      2        Yes  247957\n",
       "GenHealth         319795      5  Very good  113858\n",
       "Asthma            319795      2         No  276923\n",
       "KidneyDisease     319795      2         No  308016\n",
       "SkinCancer        319795      2         No  289976"
      ]
     },
     "execution_count": 8,
     "metadata": {},
     "output_type": "execute_result"
    }
   ],
   "source": [
    "df.describe(include=\"object\").T"
   ]
  },
  {
   "cell_type": "markdown",
   "metadata": {
    "id": "JxwxiWWBnL09"
   },
   "source": [
    "Sabemos que el número de observaciones que tenemos son 319 795, de esos 292 422 pertenecen a la clase negativa. Hay que balancear los datos."
   ]
  },
  {
   "cell_type": "code",
   "execution_count": 9,
   "metadata": {
    "id": "DAlQ5SSunXN8"
   },
   "outputs": [],
   "source": [
    "import seaborn as sns\n",
    "import matplotlib.pyplot as plt"
   ]
  },
  {
   "cell_type": "code",
   "execution_count": null,
   "metadata": {
    "colab": {
     "base_uri": "https://localhost:8080/",
     "height": 797
    },
    "id": "40XYWEl6neHI",
    "outputId": "01461837-27dc-495e-cc87-7de53c6ac1e9"
   },
   "outputs": [
    {
     "name": "stderr",
     "output_type": "stream",
     "text": [
      "/Users/leon/opt/anaconda3/lib/python3.9/site-packages/seaborn/distributions.py:2619: FutureWarning: `distplot` is a deprecated function and will be removed in a future version. Please adapt your code to use either `displot` (a figure-level function with similar flexibility) or `histplot` (an axes-level function for histograms).\n",
      "  warnings.warn(msg, FutureWarning)\n"
     ]
    }
   ],
   "source": [
    "fig, ax = plt.subplots(2, 2, figsize = (20, 10))\n",
    "\n",
    "sns.distplot(df.BMI, ax = ax[0, 0])\n",
    "ax[0, 0].set_title(\"Densidad de probabilidad - BMI\")\n",
    "\n",
    "sns.distplot(df.PhysicalHealth, ax = ax[0, 1])\n",
    "ax[0, 1].set_title(\"Densidad de probabilidad - Physical Health\")\n",
    "\n",
    "sns.distplot(df.MentalHealth, ax = ax[1, 0])\n",
    "ax[1, 0].set_title(\"Densidad de probabilidad - Mental Health\")\n",
    "\n",
    "sns.distplot(df.SleepTime, ax = ax[1, 1])\n",
    "ax[1, 1].set_title(\"Densidad de probabilidad - Sleep Time\")"
   ]
  },
  {
   "cell_type": "markdown",
   "metadata": {
    "id": "J7muq6p7p3JI"
   },
   "source": [
    "Parece que Sleep Time y BMI son más o menos simétrocas. dependiendo de qué modelo decidamos usar, puede que las otras debamos hacerle alguna transformación\n",
    "logarítmica."
   ]
  },
  {
   "cell_type": "code",
   "execution_count": null,
   "metadata": {
    "colab": {
     "base_uri": "https://localhost:8080/",
     "height": 936
    },
    "id": "vyp9MwzdoW_d",
    "outputId": "63f37b63-9672-4632-b7c7-d11d7601f5b2"
   },
   "outputs": [],
   "source": [
    "fig, ax = plt.subplots(2, 2, figsize = (20, 10))\n",
    "\n",
    "sns.distplot(df[df.HeartDisease == 'No'].BMI, ax = ax[0, 0])\n",
    "sns.distplot(df[df.HeartDisease == 'Yes'].BMI, ax = ax[0, 0])\n",
    "ax[0, 0].set_title(\"Densidad de probabilidad - BMI\")\n",
    "\n",
    "sns.distplot(df[df.HeartDisease == 'No'].PhysicalHealth, ax = ax[0, 1])\n",
    "sns.distplot(df[df.HeartDisease == 'Yes'].PhysicalHealth, ax = ax[0, 1])\n",
    "ax[0, 1].set_title(\"Densidad de probabilidad - Physical Health\")\n",
    "\n",
    "sns.distplot(df[df.HeartDisease == 'No'].MentalHealth, ax = ax[1, 0])\n",
    "sns.distplot(df[df.HeartDisease == 'Yes'].MentalHealth, ax = ax[1, 0])\n",
    "ax[1, 0].set_title(\"Densidad de probabilidad - Mental Health\")\n",
    "\n",
    "sns.distplot(df[df.HeartDisease == 'No'].SleepTime, ax = ax[1, 1])\n",
    "sns.distplot(df[df.HeartDisease == 'Yes'].SleepTime, ax = ax[1, 1])\n",
    "ax[1, 1].set_title(\"Densidad de probabilidad - Sleep Time\")"
   ]
  },
  {
   "cell_type": "markdown",
   "metadata": {
    "id": "6WuXp0zrq3UB"
   },
   "source": [
    "Hay muy poca separabilidad entre las clases.\n",
    "### Ahora veamos las variables categóricas"
   ]
  },
  {
   "cell_type": "code",
   "execution_count": null,
   "metadata": {
    "colab": {
     "base_uri": "https://localhost:8080/",
     "height": 0
    },
    "id": "jln-x4Swq9jq",
    "outputId": "86a083ef-490a-41a2-da11-8cb32762625a"
   },
   "outputs": [],
   "source": [
    "sex_df = df.groupby(['Sex', 'HeartDisease']).count().reset_index().loc[:, ['Sex', 'HeartDisease', 'BMI']]\n",
    "sex_df"
   ]
  },
  {
   "cell_type": "code",
   "execution_count": null,
   "metadata": {
    "colab": {
     "base_uri": "https://localhost:8080/",
     "height": 0
    },
    "id": "M926iPiOsXk0",
    "outputId": "d09a982f-b52a-4de1-a4b3-db6777f036b2"
   },
   "outputs": [],
   "source": [
    "## como no hay nulos, podemos tomar cualquier columna y usarla para obtener el conteo\n",
    "\n",
    "sns.barplot(x=\"Sex\", y=\"BMI\", hue=\"HeartDisease\", data = sex_df)"
   ]
  },
  {
   "cell_type": "markdown",
   "metadata": {
    "id": "qIeP49Mxsz12"
   },
   "source": [
    "Parece que proporcionalmente, hay más hombres con enfermedades cardiacas. \n",
    "Variables como beber alcohol o fumar seguramente proveen separabilidad."
   ]
  },
  {
   "cell_type": "code",
   "execution_count": null,
   "metadata": {
    "colab": {
     "base_uri": "https://localhost:8080/",
     "height": 0
    },
    "id": "8S3882WLs6Jw",
    "outputId": "9c449884-39b6-4423-841b-485d2a3f192f"
   },
   "outputs": [],
   "source": [
    "alcohol_df = df.groupby(['AlcoholDrinking', 'HeartDisease']).count()['BMI'].reset_index()\n",
    "\n",
    "sns.barplot(x = \"AlcoholDrinking\", y = \"BMI\", hue = \"HeartDisease\", data = alcohol_df)"
   ]
  },
  {
   "cell_type": "markdown",
   "metadata": {
    "id": "YESIb1dNt9J0"
   },
   "source": [
    "Dificil decir a simple vista. veamos proporciones"
   ]
  },
  {
   "cell_type": "code",
   "execution_count": null,
   "metadata": {
    "colab": {
     "base_uri": "https://localhost:8080/"
    },
    "id": "2kfzEw9ot__c",
    "outputId": "2c62b906-20b0-466b-8087-b289e31070a5"
   },
   "outputs": [],
   "source": [
    "non_drinkers = alcohol_df[alcohol_df.AlcoholDrinking == 'No'].BMI.sum()\n",
    "drinkers = alcohol_df[alcohol_df.AlcoholDrinking == 'Yes'].BMI.sum()\n",
    "\n",
    "clean_and_sick = alcohol_df[(alcohol_df.AlcoholDrinking == 'No') & (alcohol_df.HeartDisease == 'Yes')].BMI.sum() # usa sum para obtener int en vez de series\n",
    "drink_and_sick = alcohol_df[(alcohol_df.AlcoholDrinking == 'Yes') & (alcohol_df.HeartDisease == 'Yes')].BMI.sum()\n",
    "\n",
    "\n",
    "print(f\"{float(clean_and_sick) / non_drinkers} es la proporción de gente enferma que no toma alcohol\")\n",
    "print(f\"{float(drink_and_sick) / drinkers} es la proporción de gente enferma que sí toma alcohol\")"
   ]
  },
  {
   "cell_type": "markdown",
   "metadata": {
    "id": "qa9kkFSKvOBo"
   },
   "source": [
    "No nos dice mucho "
   ]
  },
  {
   "cell_type": "code",
   "execution_count": null,
   "metadata": {
    "colab": {
     "base_uri": "https://localhost:8080/",
     "height": 0
    },
    "id": "rRNbJOm5wnSv",
    "outputId": "99afd75f-3955-4d66-c781-25e6d5dcc393"
   },
   "outputs": [],
   "source": [
    "test_df = df.groupby([\"Stroke\", 'HeartDisease']).count()['BMI'].reset_index()\n",
    "total_df = df.groupby(['HeartDisease']).count()['Smoking'].reset_index()\n",
    "\n",
    "total_df = test_df.merge(total_df, on=\"HeartDisease\", how=\"left\")\n",
    "total_df['percent'] = total_df.BMI.astype('float') / total_df.Smoking\n",
    "\n",
    "total_df"
   ]
  },
  {
   "cell_type": "code",
   "execution_count": null,
   "metadata": {
    "colab": {
     "base_uri": "https://localhost:8080/",
     "height": 0
    },
    "id": "4PnL2C3EziZ6",
    "outputId": "99cf7031-2ea1-41cc-a4c0-2931782fbcf8"
   },
   "outputs": [],
   "source": [
    "plot_df = total_df.drop(['Smoking', 'BMI'], axis=1)\n",
    "plot_df.pivot(index=\"HeartDisease\", columns=\"Stroke\", values=\"percent\").plot(kind='bar', stacked=True)"
   ]
  },
  {
   "cell_type": "code",
   "execution_count": null,
   "metadata": {
    "id": "IXCylL4O2CpE"
   },
   "outputs": [],
   "source": [
    "def plot_categorical(df: pd.DataFrame, feature: str):\n",
    "    test_df = df.groupby([feature, 'HeartDisease']).count()['BMI'].reset_index()\n",
    "    total_df = df.groupby(['HeartDisease']).count()['Smoking'].reset_index()\n",
    "\n",
    "    total_df = test_df.merge(total_df, on=\"HeartDisease\", how=\"left\")\n",
    "    total_df['percent'] = total_df.BMI.astype('float') / total_df.Smoking\n",
    "    \n",
    "   \n",
    "    plot_df = total_df.drop(['Smoking', 'BMI'], axis=1)\n",
    "\n",
    "    plot_df.pivot(index=\"HeartDisease\", columns=feature, values=\"percent\").plot(kind='bar', stacked=True)"
   ]
  },
  {
   "cell_type": "code",
   "execution_count": null,
   "metadata": {
    "colab": {
     "base_uri": "https://localhost:8080/",
     "height": 0
    },
    "id": "qBpXh9tt29Ep",
    "outputId": "ad314136-c71d-4a95-c40e-3652b5d71bc5"
   },
   "outputs": [],
   "source": [
    "plot_categorical(df, \"AgeCategory\")"
   ]
  },
  {
   "cell_type": "markdown",
   "metadata": {
    "id": "QC1VwwNfxPHB"
   },
   "source": [
    "Parece que ciertos grupos de edad están mejor representdos en la clase positiva. Podría ser una buena variable.\n",
    "\n",
    "Ahora veamos la misma gráfica para el resto de las variables categóricas"
   ]
  },
  {
   "cell_type": "code",
   "execution_count": null,
   "metadata": {
    "colab": {
     "base_uri": "https://localhost:8080/",
     "height": 0
    },
    "id": "RAS5J82K3bDI",
    "outputId": "e6e68ccb-bb8a-43ca-9756-538dfc7be522"
   },
   "outputs": [],
   "source": [
    "plotted = ['AgeCategory', 'Stroke', 'HeartDisease', \"Smoking\"]\n",
    "to_be_plotted = [col for col in df.select_dtypes(include=\"object\").columns if col not in plotted]\n",
    "\n",
    "for col in to_be_plotted:\n",
    "  plot_categorical(df, col)"
   ]
  },
  {
   "cell_type": "markdown",
   "metadata": {
    "id": "_RbRc_dT4lZs"
   },
   "source": [
    "Aunque no hay ninguna variable que sea notoriamente diferente para cada una de las clases, si la persona tuvo diabetes, cánceer en la piel, enfermedades de riñón o actividad física sí muestran algunas diferencias."
   ]
  },
  {
   "cell_type": "code",
   "execution_count": null,
   "metadata": {
    "colab": {
     "base_uri": "https://localhost:8080/",
     "height": 0
    },
    "id": "FtQbMZJ94W3h",
    "outputId": "6556fdd5-6146-4000-c580-64988caa58b6"
   },
   "outputs": [],
   "source": [
    "test_df = df.groupby([\"Smoking\", 'HeartDisease']).count()['BMI'].reset_index()\n",
    "\n",
    "total_df = df.groupby(['HeartDisease']).count()['Smoking'].reset_index()\n",
    "total_df = test_df.merge(total_df, on=\"HeartDisease\", how=\"left\")\n",
    "total_df['percent'] = total_df.BMI.astype('float') / total_df.Smoking_y\n",
    "total_df = total_df.drop(['Smoking_y', 'BMI'],axis=1)\n",
    "total_df"
   ]
  },
  {
   "cell_type": "code",
   "execution_count": null,
   "metadata": {
    "colab": {
     "base_uri": "https://localhost:8080/",
     "height": 0
    },
    "id": "6S0YGbSv7FpR",
    "outputId": "f9a51595-62bd-4921-ea36-2fc488c2b977"
   },
   "outputs": [],
   "source": [
    "total_df.pivot(index=\"HeartDisease\", columns=\"Smoking_x\", values=\"percent\").plot(kind='bar', stacked=True)"
   ]
  },
  {
   "cell_type": "markdown",
   "metadata": {
    "id": "9BQh5w1uxO-s"
   },
   "source": [
    "También hay un poco de diferencia en fumadores"
   ]
  },
  {
   "cell_type": "markdown",
   "metadata": {
    "id": "OIZlyW7r8NM5"
   },
   "source": [
    "## Preprocesamiento de Datos"
   ]
  },
  {
   "cell_type": "code",
   "execution_count": null,
   "metadata": {
    "id": "l0E9JEOa8QZB"
   },
   "outputs": [],
   "source": [
    "from sklearn.impute import SimpleImputer\n",
    "from sklearn.preprocessing import OneHotEncoder, MinMaxScaler, StandardScaler\n",
    "from sklearn.pipeline import Pipeline\n",
    "from sklearn.compose import ColumnTransformer\n",
    "from sklearn.preprocessing import LabelEncoder, OneHotEncoder\n",
    "from sklearn.linear_model import LogisticRegression\n",
    "from sklearn.tree import DecisionTreeClassifier\n",
    "from sklearn.model_selection import train_test_split"
   ]
  },
  {
   "cell_type": "markdown",
   "metadata": {
    "id": "2k0H73OX-nWK"
   },
   "source": [
    "Vamos a separar los conjuntos de prueba y entrenamiento"
   ]
  },
  {
   "cell_type": "code",
   "execution_count": null,
   "metadata": {
    "id": "gtI3jDbh-Dng"
   },
   "outputs": [],
   "source": [
    "\n",
    "y = df.pop('HeartDisease')\n",
    "X = df"
   ]
  },
  {
   "cell_type": "code",
   "execution_count": null,
   "metadata": {
    "colab": {
     "base_uri": "https://localhost:8080/"
    },
    "id": "dzHcnKgZ-eNW",
    "outputId": "8131b74d-77e5-480d-86db-d9d71ef6db6b"
   },
   "outputs": [],
   "source": [
    "y"
   ]
  },
  {
   "cell_type": "code",
   "execution_count": null,
   "metadata": {
    "colab": {
     "base_uri": "https://localhost:8080/",
     "height": 424
    },
    "id": "QEEjNf_k-e5J",
    "outputId": "f6e664f7-1dc0-4c5c-a7dd-acfcbd7acda4"
   },
   "outputs": [],
   "source": [
    "X"
   ]
  },
  {
   "cell_type": "code",
   "execution_count": null,
   "metadata": {
    "id": "Jg69sacqDFGu"
   },
   "outputs": [],
   "source": [
    "# como no tenemos valores nulos solo debemos escalar variables numéricas y hacer one hot encoding de variables categóricas\n",
    "\n",
    "scale_numeric = Pipeline(steps=[(\"scaling\", StandardScaler())])\n",
    "encode_category = Pipeline(steps=[(\"encoding\", OneHotEncoder())])\n",
    "\n",
    "\n",
    "columns_number = X.select_dtypes(include=\"number\").columns.to_list()\n",
    "columns_category = X.select_dtypes(include=\"category\").columns.to_list()\n",
    "\n",
    "\n",
    "preprocessing = ColumnTransformer(transformers=[(\"numeric\", scale_numeric, columns_number),\n",
    "                                                (\"category\", encode_category, columns_category)\n",
    "])"
   ]
  },
  {
   "cell_type": "code",
   "execution_count": null,
   "metadata": {
    "colab": {
     "base_uri": "https://localhost:8080/",
     "height": 424
    },
    "id": "Gig26Fn2-hOV",
    "outputId": "6ef79387-2e71-4e3d-b08e-2658cd4c530a"
   },
   "outputs": [],
   "source": [
    "##### \n",
    "X_train, X_test, y_train, y_test = train_test_split(X, y, test_size = 0.2, random_state=34)\n",
    "\n",
    "X_train"
   ]
  },
  {
   "cell_type": "code",
   "execution_count": null,
   "metadata": {
    "colab": {
     "base_uri": "https://localhost:8080/"
    },
    "id": "C__-blZb-yre",
    "outputId": "a6a57b8f-a8d2-4cae-b450-8ad0d3a3e975"
   },
   "outputs": [],
   "source": [
    "### preparar los datos\n",
    "\n",
    "label_encoder = LabelEncoder()\n",
    "\n",
    "y_train = label_encoder.fit_transform(y_train)\n",
    "y_train"
   ]
  },
  {
   "cell_type": "code",
   "execution_count": null,
   "metadata": {
    "id": "l1mXOxGE_J81",
    "scrolled": true
   },
   "outputs": [],
   "source": [
    "from imblearn.over_sampling import SMOTE"
   ]
  },
  {
   "cell_type": "code",
   "execution_count": null,
   "metadata": {
    "colab": {
     "base_uri": "https://localhost:8080/"
    },
    "id": "92Ix0HFzAhtp",
    "outputId": "f5343888-32d5-4d0f-adc7-e0960dc81be0"
   },
   "outputs": [],
   "source": [
    "X_train = preprocessing.fit_transform(X_train)\n",
    "X_train"
   ]
  },
  {
   "cell_type": "code",
   "execution_count": null,
   "metadata": {
    "colab": {
     "base_uri": "https://localhost:8080/"
    },
    "id": "WvL7VM-qBUoB",
    "outputId": "3a6b5f0b-c569-404a-a956-480b6abd0c82"
   },
   "outputs": [],
   "source": [
    "over_sampler = SMOTE()\n",
    "X_train_res, y_train_res = over_sampler.fit_resample(X_train, y_train)\n",
    "\n",
    "sum(y_train_res) / len(y_train_res)"
   ]
  },
  {
   "cell_type": "code",
   "execution_count": null,
   "metadata": {
    "id": "hLEtXKYeBV4s"
   },
   "outputs": [],
   "source": [
    "### instanciar modelos\n",
    "\n",
    "tree_model = DecisionTreeClassifier()\n",
    "logit_model = LogisticRegression()"
   ]
  },
  {
   "cell_type": "code",
   "execution_count": null,
   "metadata": {
    "colab": {
     "base_uri": "https://localhost:8080/"
    },
    "id": "ZY4f6sqbDzjf",
    "outputId": "96b358dc-f5eb-4a56-9cc0-0f8581250318"
   },
   "outputs": [],
   "source": [
    "tree_model.fit(X_train_res, y_train_res)\n",
    "logit_model.fit(X_train_res, y_train_res)"
   ]
  },
  {
   "cell_type": "markdown",
   "metadata": {
    "id": "HaM7qGnLEIVL"
   },
   "source": [
    "Evaluemos el modelo en el conjunto de prueba"
   ]
  },
  {
   "cell_type": "code",
   "execution_count": null,
   "metadata": {
    "id": "JqInGaWk_pyh"
   },
   "outputs": [],
   "source": [
    "X_test = preprocessing.transform(X_test)\n",
    "y_test = label_encoder.transform(y_test)"
   ]
  },
  {
   "cell_type": "code",
   "execution_count": null,
   "metadata": {
    "id": "mzr3cslxET8Y"
   },
   "outputs": [],
   "source": [
    "tree_pred = tree_model.predict(X_test)\n",
    "logit_pred = logit_model.predict(X_test)"
   ]
  },
  {
   "cell_type": "code",
   "execution_count": null,
   "metadata": {
    "id": "nefnDtIEEegF"
   },
   "outputs": [],
   "source": [
    "from sklearn.metrics import recall_score, precision_score"
   ]
  },
  {
   "cell_type": "code",
   "execution_count": null,
   "metadata": {
    "colab": {
     "base_uri": "https://localhost:8080/"
    },
    "id": "PbZJkGDvEnKC",
    "outputId": "9d1615d1-4674-4445-f8ab-ab54bba0ffaf"
   },
   "outputs": [],
   "source": [
    "print(f\"Conjunto de prueba (arbol) - accuracy: {recall_score(y_test, tree_pred)} precision: {precision_score(y_test, tree_pred)}\")\n",
    "print(f\"Conjunto de prueba (logit) - accuracy: {recall_score(y_test, logit_pred)} precision: {precision_score(y_test, logit_pred)}\")"
   ]
  },
  {
   "cell_type": "code",
   "execution_count": null,
   "metadata": {
    "id": "LfH63OE3E-0A"
   },
   "outputs": [],
   "source": [
    "### comparar con conjunto de entrenamiento\n",
    "\n",
    "tree_pred_train = tree_model.predict(X_train_res)\n",
    "logit_pred_train = logit_model.predict(X_train_res)"
   ]
  },
  {
   "cell_type": "code",
   "execution_count": null,
   "metadata": {
    "colab": {
     "base_uri": "https://localhost:8080/"
    },
    "id": "y4udmmGAFPmK",
    "outputId": "4252d6f5-1b11-4380-cdfa-a2b245580277"
   },
   "outputs": [],
   "source": [
    "print(f\"Conjunto de prueba (arbol) - accuracy: {recall_score(y_train_res, tree_pred_train)} precision: {precision_score(y_train_res, tree_pred_train)}\")\n",
    "print(f\"Conjunto de prueba (logit) - accuracy: {recall_score(y_train_res, logit_pred_train)} precision: {precision_score(y_train_res, logit_pred_train)}\")"
   ]
  },
  {
   "cell_type": "markdown",
   "metadata": {
    "id": "Ftrk_QL3FdrZ"
   },
   "source": [
    "El Precision cayó mucho. Probablemente hay algo de overfitting o algún problema con el over sampling"
   ]
  },
  {
   "cell_type": "code",
   "execution_count": null,
   "metadata": {
    "id": "HhmoF7fIFxCw"
   },
   "outputs": [],
   "source": []
  },
  {
   "cell_type": "markdown",
   "metadata": {
    "id": "c4CJvkJewBy1"
   },
   "source": [
    "# Busqueda de Hiperparametros"
   ]
  },
  {
   "cell_type": "code",
   "execution_count": null,
   "metadata": {
    "id": "qjKJL3udwBhp"
   },
   "outputs": [],
   "source": [
    "import optuna\n",
    "import sklearn"
   ]
  },
  {
   "cell_type": "code",
   "execution_count": null,
   "metadata": {
    "id": "ykmkQVU-wgSI"
   },
   "outputs": [],
   "source": [
    "# Variables de entrenamiento X_train_res, y_train_res"
   ]
  },
  {
   "cell_type": "code",
   "execution_count": null,
   "metadata": {
    "colab": {
     "base_uri": "https://localhost:8080/"
    },
    "id": "UwsOdirswKbB",
    "outputId": "6d3f92a6-bffe-4ad0-fae9-69a6b2eb59cc"
   },
   "outputs": [],
   "source": [
    "def objective(trial):\n",
    "    x, y = X_train_res, y_train_res\n",
    "    \n",
    "    classifier_name = trial.suggest_categorical('classifier', ['SVC', 'LogisticRegression' 'RandomForest'])\n",
    "    if classifier_name == 'SVC':\n",
    "        svc_c = trial.suggest_float('svc_c', 1e-10, 1e10, log=True)\n",
    "        svc_kernel = trial.suggest_categorical('svc_kernel', ['linear', 'poly', 'sigmoid', 'rbf'])\n",
    "        svc_gamma = trial.suggest_categorical('svc_gamma', ['auto', 'scale'])\n",
    "        classifier_obj = sklearn.svm.SVC(C=svc_c, gamma=svc_gamma, kernel=svc_kernel)\n",
    "    elif classifier_name == 'LogisticRegression':\n",
    "        LogisticRegression_penalty = trial.suggest_categorical(['none', 'l2', 'l1', 'elasticnet'])\n",
    "        LogisticRegression_c = trial.suggest_float('LogisticRegression_c', 1e-10, 5, log=True)\n",
    "        LogisticRegression_solver = trial.suggest_categorical('LogisticRegression_solver', ['newton-cg', 'lbfgs', 'liblinear', 'sag', 'saga'])\n",
    "#         LogisticRegression_fit_intercept = trial.suggest_categorical('LogisticRegression_fit_intercept', [False, True])\n",
    "        classifier_obj = sklearn.linear_model.LogisticRegression(\n",
    "            penalty=LogisticRegression_penalty, C=LogisticRegression_c, solver=LogisticRegression_solver)\n",
    "    else:\n",
    "        rf_max_depth = trial.suggest_int('rf_max_depth', 2, 200, log=True)\n",
    "        rf_n_estimators = trial.suggest_int('rf_n_estimators', 100, 500, log=True)\n",
    "        rf_criterion = trial.suggest_categorical('rf_criterion', ['gini', 'entropy'])\n",
    "        rf_max_features = trial.suggest_categorical('rf_max_features', ['auto', 'sqrt', 'log2'])\n",
    "        classifier_obj = sklearn.ensemble.RandomForestClassifier(\n",
    "            max_depth=rf_max_depth, n_estimators=rf_n_estimators, criterion=rf_criterion,\n",
    "        max_features=rf_max_features)\n",
    "        \n",
    "        \n",
    "    score = sklearn.model_selection.cross_val_score(classifier_obj, x, \n",
    "                                    y, n_jobs=-1, cv=2\n",
    "                                                   )\n",
    "    accuracy = score.mean()\n",
    "    return accuracy\n",
    "\n",
    "\n",
    "study = optuna.create_study(direction='maximize')\n",
    "study.optimize(objective, n_trials=2)\n",
    "print(study.best_trial)"
   ]
  },
  {
   "cell_type": "code",
   "execution_count": null,
   "metadata": {
    "id": "ACPcuMbUwfCT"
   },
   "outputs": [],
   "source": []
  }
 ],
 "metadata": {
  "colab": {
   "name": "PF_ML_v2.ipynb",
   "provenance": []
  },
  "kernelspec": {
   "display_name": "Python 3 (ipykernel)",
   "language": "python",
   "name": "python3"
  },
  "language_info": {
   "codemirror_mode": {
    "name": "ipython",
    "version": 3
   },
   "file_extension": ".py",
   "mimetype": "text/x-python",
   "name": "python",
   "nbconvert_exporter": "python",
   "pygments_lexer": "ipython3",
   "version": "3.9.12"
  }
 },
 "nbformat": 4,
 "nbformat_minor": 1
}
